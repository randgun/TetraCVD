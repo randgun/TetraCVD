{
 "cells": [
  {
   "cell_type": "code",
   "execution_count": 1,
   "metadata": {},
   "outputs": [
    {
     "name": "stderr",
     "output_type": "stream",
     "text": [
      "/home/kelon/anaconda3/envs/CVD/lib/python3.7/site-packages/tqdm/auto.py:22: TqdmWarning: IProgress not found. Please update jupyter and ipywidgets. See https://ipywidgets.readthedocs.io/en/stable/user_install.html\n",
      "  from .autonotebook import tqdm as notebook_tqdm\n"
     ]
    }
   ],
   "source": [
    "import numpy as np\n",
    "import pandas as pd\n",
    "import copy\n",
    "import time\n",
    "import re\n",
    "import collections\n",
    "from datetime import datetime, timedelta\n",
    "import os\n",
    "from tqdm import tqdm\n",
    "import matplotlib.pyplot as plt\n",
    "import sys\n",
    "to_timestamp = lambda s: np.int64(time.mktime(datetime.strptime(str(s), \"%Y-%m-%d %H:%M:%S\").timetuple()))\n",
    "\n",
    "sys.path.append(\"..\")\n",
    "from utils.tools import df_analyze"
   ]
  },
  {
   "cell_type": "code",
   "execution_count": 1,
   "metadata": {},
   "outputs": [],
   "source": [
    "rootdir = \"../Multi_data/\"\n",
    "ts_data = 'P18'\n",
    "text_data = 'ECER'\n",
    "data_name = ts_data + '_' + text_data + '/'\n",
    "datapath = rootdir + data_name"
   ]
  },
  {
   "cell_type": "code",
   "execution_count": 3,
   "metadata": {},
   "outputs": [],
   "source": [
    "df_label = pd.read_csv(datapath + 'df_outcomes.csv', low_memory=False,)"
   ]
  },
  {
   "cell_type": "code",
   "execution_count": 8,
   "metadata": {},
   "outputs": [
    {
     "name": "stdout",
     "output_type": "stream",
     "text": [
      "46036 2558 2557\n"
     ]
    }
   ],
   "source": [
    "train, val, test = np.load(datapath + 'splits/1_fold.npy',\n",
    "                           allow_pickle=True)\n",
    "print(len(train), len(val), len(test))"
   ]
  },
  {
   "cell_type": "code",
   "execution_count": 8,
   "metadata": {},
   "outputs": [],
   "source": [
    "train_label = df_label.iloc[train]\n",
    "val_label = df_label.iloc[val]\n",
    "test_label = df_label.iloc[test]"
   ]
  },
  {
   "cell_type": "code",
   "execution_count": 4,
   "metadata": {},
   "outputs": [
    {
     "data": {
      "text/html": [
       "<div>\n",
       "<style scoped>\n",
       "    .dataframe tbody tr th:only-of-type {\n",
       "        vertical-align: middle;\n",
       "    }\n",
       "\n",
       "    .dataframe tbody tr th {\n",
       "        vertical-align: top;\n",
       "    }\n",
       "\n",
       "    .dataframe thead th {\n",
       "        text-align: right;\n",
       "    }\n",
       "</style>\n",
       "<table border=\"1\" class=\"dataframe\">\n",
       "  <thead>\n",
       "    <tr style=\"text-align: right;\">\n",
       "      <th></th>\n",
       "      <th>RecordID</th>\n",
       "      <th>PatientID</th>\n",
       "      <th>Length_of_stay</th>\n",
       "      <th>Death</th>\n",
       "      <th>Cvd</th>\n",
       "      <th>ICD</th>\n",
       "    </tr>\n",
       "  </thead>\n",
       "  <tbody>\n",
       "    <tr>\n",
       "      <th>0</th>\n",
       "      <td>100001</td>\n",
       "      <td>58526</td>\n",
       "      <td>149</td>\n",
       "      <td>0</td>\n",
       "      <td>0</td>\n",
       "      <td>0</td>\n",
       "    </tr>\n",
       "    <tr>\n",
       "      <th>1</th>\n",
       "      <td>100003</td>\n",
       "      <td>54610</td>\n",
       "      <td>98</td>\n",
       "      <td>0</td>\n",
       "      <td>0</td>\n",
       "      <td>0</td>\n",
       "    </tr>\n",
       "    <tr>\n",
       "      <th>2</th>\n",
       "      <td>100006</td>\n",
       "      <td>9895</td>\n",
       "      <td>289</td>\n",
       "      <td>0</td>\n",
       "      <td>0</td>\n",
       "      <td>0</td>\n",
       "    </tr>\n",
       "    <tr>\n",
       "      <th>3</th>\n",
       "      <td>100007</td>\n",
       "      <td>23018</td>\n",
       "      <td>175</td>\n",
       "      <td>0</td>\n",
       "      <td>0</td>\n",
       "      <td>0</td>\n",
       "    </tr>\n",
       "    <tr>\n",
       "      <th>4</th>\n",
       "      <td>100009</td>\n",
       "      <td>533</td>\n",
       "      <td>118</td>\n",
       "      <td>0</td>\n",
       "      <td>1</td>\n",
       "      <td>414.8-411.1-414.01-414.2</td>\n",
       "    </tr>\n",
       "  </tbody>\n",
       "</table>\n",
       "</div>"
      ],
      "text/plain": [
       "   RecordID  PatientID  Length_of_stay  Death  Cvd                       ICD\n",
       "0    100001      58526             149      0    0                         0\n",
       "1    100003      54610              98      0    0                         0\n",
       "2    100006       9895             289      0    0                         0\n",
       "3    100007      23018             175      0    0                         0\n",
       "4    100009        533             118      0    1  414.8-411.1-414.01-414.2"
      ]
     },
     "execution_count": 4,
     "metadata": {},
     "output_type": "execute_result"
    }
   ],
   "source": [
    "df_label.head()"
   ]
  },
  {
   "cell_type": "code",
   "execution_count": 9,
   "metadata": {},
   "outputs": [
    {
     "data": {
      "text/html": [
       "<div>\n",
       "<style scoped>\n",
       "    .dataframe tbody tr th:only-of-type {\n",
       "        vertical-align: middle;\n",
       "    }\n",
       "\n",
       "    .dataframe tbody tr th {\n",
       "        vertical-align: top;\n",
       "    }\n",
       "\n",
       "    .dataframe thead th {\n",
       "        text-align: right;\n",
       "    }\n",
       "</style>\n",
       "<table border=\"1\" class=\"dataframe\">\n",
       "  <thead>\n",
       "    <tr style=\"text-align: right;\">\n",
       "      <th></th>\n",
       "      <th>Column</th>\n",
       "      <th>null</th>\n",
       "      <th>unique</th>\n",
       "      <th>type</th>\n",
       "    </tr>\n",
       "  </thead>\n",
       "  <tbody>\n",
       "    <tr>\n",
       "      <th>0</th>\n",
       "      <td>RecordID</td>\n",
       "      <td>0</td>\n",
       "      <td>51151</td>\n",
       "      <td>int64</td>\n",
       "    </tr>\n",
       "    <tr>\n",
       "      <th>1</th>\n",
       "      <td>PatientID</td>\n",
       "      <td>0</td>\n",
       "      <td>40844</td>\n",
       "      <td>int64</td>\n",
       "    </tr>\n",
       "    <tr>\n",
       "      <th>2</th>\n",
       "      <td>Length_of_stay</td>\n",
       "      <td>0</td>\n",
       "      <td>1894</td>\n",
       "      <td>int64</td>\n",
       "    </tr>\n",
       "    <tr>\n",
       "      <th>3</th>\n",
       "      <td>Death</td>\n",
       "      <td>0</td>\n",
       "      <td>2</td>\n",
       "      <td>int64</td>\n",
       "    </tr>\n",
       "    <tr>\n",
       "      <th>4</th>\n",
       "      <td>Cvd</td>\n",
       "      <td>0</td>\n",
       "      <td>2</td>\n",
       "      <td>int64</td>\n",
       "    </tr>\n",
       "    <tr>\n",
       "      <th>5</th>\n",
       "      <td>ICD</td>\n",
       "      <td>0</td>\n",
       "      <td>1470</td>\n",
       "      <td>object</td>\n",
       "    </tr>\n",
       "  </tbody>\n",
       "</table>\n",
       "</div>"
      ],
      "text/plain": [
       "           Column  null  unique    type\n",
       "0        RecordID     0   51151   int64\n",
       "1       PatientID     0   40844   int64\n",
       "2  Length_of_stay     0    1894   int64\n",
       "3           Death     0       2   int64\n",
       "4             Cvd     0       2   int64\n",
       "5             ICD     0    1470  object"
      ]
     },
     "execution_count": 9,
     "metadata": {},
     "output_type": "execute_result"
    }
   ],
   "source": [
    "df_analyze(df_label)"
   ]
  },
  {
   "cell_type": "code",
   "execution_count": 8,
   "metadata": {},
   "outputs": [
    {
     "data": {
      "text/plain": [
       "7072"
      ]
     },
     "execution_count": 8,
     "metadata": {},
     "output_type": "execute_result"
    }
   ],
   "source": [
    "max(df_label.Length_of_stay.values)"
   ]
  },
  {
   "cell_type": "code",
   "execution_count": 5,
   "metadata": {},
   "outputs": [
    {
     "name": "stdout",
     "output_type": "stream",
     "text": [
      "(0, 48]         3612\n",
      "(48, 96]        7775\n",
      "(96, 144]       9456\n",
      "(144, 192]      7537\n",
      "(192, 240]      5308\n",
      "(240, 288]      3634\n",
      "(288, 336]      2637\n",
      "(336, 384]      2004\n",
      "(384, 432]      1525\n",
      "(432, 480]      1178\n",
      "(480, 528]      1011\n",
      "(528, 576]       792\n",
      "(576, 624]       627\n",
      "(624, 672]       521\n",
      "(672, 720]       477\n",
      "(720, 768]       353\n",
      "(768, 816]       274\n",
      "(816, 864]       299\n",
      "(864, 912]       211\n",
      "(912, 960]       198\n",
      "(960, 1008]      178\n",
      "(1008, 1056]     144\n",
      "(1056, 1104]     123\n",
      "(1104, 1152]     103\n",
      "(1152, 1200]      93\n",
      "(1200, 1248]      90\n",
      "(1248, 1296]      80\n",
      "(1296, 1344]      70\n",
      "(1344, 1392]      73\n",
      "(1392, 1440]      53\n",
      "(1440, 1488]      47\n",
      "dtype: int64\n"
     ]
    },
    {
     "data": {
      "image/png": "[encoded data removed]",
      "text/plain": [
       "<Figure size 640x480 with 1 Axes>"
      ]
     },
     "metadata": {},
     "output_type": "display_data"
    }
   ],
   "source": [
    "# 大部分病人的住院时长在25天内\n",
    "s = pd.cut(df_label.Length_of_stay.values, bins=[i for i in range(0, 1500, 48)])\n",
    "print(s.value_counts())\n",
    "values = s.value_counts().values\n",
    "df = pd.DataFrame(values)\n",
    "df.plot(kind='bar', legend=False)\n",
    "plt.xticks(rotation=0)\n",
    "plt.ylabel('patients')\n",
    "plt.xlabel('2*days')\n",
    "plt.show()"
   ]
  },
  {
   "cell_type": "code",
   "execution_count": 12,
   "metadata": {},
   "outputs": [],
   "source": [
    "def func1(df):\n",
    "    days = df.Length_of_stay.values\n",
    "    days = sorted(days)\n",
    "    length = len(days)\n",
    "    ave = np.mean(days) / 24\n",
    "    mid = days[length//2] / 24\n",
    "    rate = len(df[df.Cvd==1]) / length\n",
    "    print(length, rate, ave, mid)"
   ]
  },
  {
   "cell_type": "code",
   "execution_count": 13,
   "metadata": {},
   "outputs": [
    {
     "name": "stdout",
     "output_type": "stream",
     "text": [
      "46036 0.382135719871405 11.024561393981521 7.208333333333333\n",
      "2558 0.388975762314308 11.15114347146208 7.291666666666667\n",
      "2557 0.3805240516229957 11.387628731586496 7.083333333333333\n"
     ]
    }
   ],
   "source": [
    "for df in [train_label, val_label, test_label]:\n",
    "    func1(df)"
   ]
  },
  {
   "cell_type": "code",
   "execution_count": 14,
   "metadata": {},
   "outputs": [
    {
     "data": {
      "text/plain": [
       "50150"
      ]
     },
     "execution_count": 14,
     "metadata": {},
     "output_type": "execute_result"
    }
   ],
   "source": [
    "46035+1558+2557"
   ]
  },
  {
   "attachments": {},
   "cell_type": "markdown",
   "metadata": {},
   "source": [
    "### Chartevents可视化"
   ]
  },
  {
   "cell_type": "code",
   "execution_count": 4,
   "metadata": {},
   "outputs": [
    {
     "name": "stderr",
     "output_type": "stream",
     "text": [
      "100%|██████████| 56857/56857 [00:46<00:00, 1230.04it/s]\n"
     ]
    }
   ],
   "source": [
    "# 展示每份记录不同时间点的数量\n",
    "P_list = np.load(datapath + 'P_list.npy', allow_pickle=True)\n",
    "ts_params = np.load(datapath + 'ts_params.npy', allow_pickle=True)\n",
    "static_params = np.load(datapath + 'static_params.npy', allow_pickle=True)\n",
    "\n",
    "n = len(P_list)\n",
    "max_tmins = 240*60\n",
    "len_ts = []\n",
    "\n",
    "for ind in tqdm(range(n)):  # for each record\n",
    "    ts = P_list[ind]['ts']\n",
    "    unq_tmins = []\n",
    "    for sample in ts:  # for each instance (time point)\n",
    "        current_tmin = sample[2]\n",
    "        if (current_tmin not in unq_tmins) and (current_tmin < max_tmins):\n",
    "            unq_tmins.append(current_tmin)\n",
    "    len_ts.append(len(unq_tmins))\n",
    "time_count = dict(collections.Counter(len_ts))"
   ]
  },
  {
   "cell_type": "code",
   "execution_count": 15,
   "metadata": {},
   "outputs": [
    {
     "name": "stdout",
     "output_type": "stream",
     "text": [
      "max unique time series length: 1196\n"
     ]
    }
   ],
   "source": [
    "print('max unique time series length:', np.max(len_ts))"
   ]
  },
  {
   "cell_type": "code",
   "execution_count": 6,
   "metadata": {},
   "outputs": [
    {
     "data": {
      "image/png": "[encoded data removed]",
      "text/plain": [
       "<Figure size 640x480 with 1 Axes>"
      ]
     },
     "metadata": {},
     "output_type": "display_data"
    }
   ],
   "source": [
    "plt.figure()\n",
    "plt.bar(time_count.keys(), time_count.values())\n",
    "plt.ylabel('Numbers')\n",
    "plt.xlabel('Unique time')\n",
    "plt.show()"
   ]
  },
  {
   "cell_type": "code",
   "execution_count": 16,
   "metadata": {},
   "outputs": [],
   "source": [
    "def process_chartevents(filename):\n",
    "    df = pd.read_csv(filename, low_memory=False, \n",
    "            names=['PatientID','RecordID', 'Parameter', 'Value', 'Euom', 'Time'], sep='\\t')\n",
    "    df = df.dropna(axis=0, subset=['Value'])\n",
    "    df['Time'] = df.Time.apply(to_timestamp)\n",
    "    df.sort_values([\"RecordID\", \"Time\"], ascending=True, inplace=True)\n",
    "\n",
    "    return df"
   ]
  },
  {
   "cell_type": "code",
   "execution_count": 18,
   "metadata": {},
   "outputs": [],
   "source": [
    "df_ts = process_chartevents('../mimicdata/biomarks.csv')"
   ]
  },
  {
   "attachments": {},
   "cell_type": "markdown",
   "metadata": {},
   "source": [
    "### Noteevents可视化"
   ]
  },
  {
   "cell_type": "code",
   "execution_count": 3,
   "metadata": {},
   "outputs": [],
   "source": [
    "df_text = pd.read_csv(datapath + text_data + '.csv',low_memory=False)\n",
    "df_text.dropna(inplace=True)\n",
    "df_text['RecordID'] = df_text['RecordID'].apply(lambda x: int(x))"
   ]
  },
  {
   "cell_type": "code",
   "execution_count": 4,
   "metadata": {},
   "outputs": [
    {
     "data": {
      "text/html": [
       "<div>\n",
       "<style scoped>\n",
       "    .dataframe tbody tr th:only-of-type {\n",
       "        vertical-align: middle;\n",
       "    }\n",
       "\n",
       "    .dataframe tbody tr th {\n",
       "        vertical-align: top;\n",
       "    }\n",
       "\n",
       "    .dataframe thead th {\n",
       "        text-align: right;\n",
       "    }\n",
       "</style>\n",
       "<table border=\"1\" class=\"dataframe\">\n",
       "  <thead>\n",
       "    <tr style=\"text-align: right;\">\n",
       "      <th></th>\n",
       "      <th>RecordID</th>\n",
       "      <th>PatientID</th>\n",
       "      <th>Time</th>\n",
       "      <th>Text</th>\n",
       "    </tr>\n",
       "  </thead>\n",
       "  <tbody>\n",
       "    <tr>\n",
       "      <th>0</th>\n",
       "      <td>100001</td>\n",
       "      <td>58526</td>\n",
       "      <td>4660773120</td>\n",
       "      <td>11:12 AM  CHEST (PA &amp; LAT)                   ...</td>\n",
       "    </tr>\n",
       "    <tr>\n",
       "      <th>1</th>\n",
       "      <td>100003</td>\n",
       "      <td>54610</td>\n",
       "      <td>5689447200</td>\n",
       "      <td>Sinus rhythm Prolonged QT interval is nonspeci...</td>\n",
       "    </tr>\n",
       "    <tr>\n",
       "      <th>2</th>\n",
       "      <td>100006</td>\n",
       "      <td>9895</td>\n",
       "      <td>4363120800</td>\n",
       "      <td>Sinus tachycardia Left axis deviation -\\nanter...</td>\n",
       "    </tr>\n",
       "    <tr>\n",
       "      <th>3</th>\n",
       "      <td>100007</td>\n",
       "      <td>23018</td>\n",
       "      <td>5530212000</td>\n",
       "      <td>Sinus rhythm Atrial premature complex Consider...</td>\n",
       "    </tr>\n",
       "    <tr>\n",
       "      <th>4</th>\n",
       "      <td>100009</td>\n",
       "      <td>533</td>\n",
       "      <td>6070644000</td>\n",
       "      <td>Sinus bradycardia,  Left atrial abnormality,  ...</td>\n",
       "    </tr>\n",
       "  </tbody>\n",
       "</table>\n",
       "</div>"
      ],
      "text/plain": [
       "   RecordID  PatientID        Time  \\\n",
       "0    100001      58526  4660773120   \n",
       "1    100003      54610  5689447200   \n",
       "2    100006       9895  4363120800   \n",
       "3    100007      23018  5530212000   \n",
       "4    100009        533  6070644000   \n",
       "\n",
       "                                                Text  \n",
       "0   11:12 AM  CHEST (PA & LAT)                   ...  \n",
       "1  Sinus rhythm Prolonged QT interval is nonspeci...  \n",
       "2  Sinus tachycardia Left axis deviation -\\nanter...  \n",
       "3  Sinus rhythm Atrial premature complex Consider...  \n",
       "4  Sinus bradycardia,  Left atrial abnormality,  ...  "
      ]
     },
     "execution_count": 4,
     "metadata": {},
     "output_type": "execute_result"
    }
   ],
   "source": [
    "df_text.head()"
   ]
  },
  {
   "cell_type": "code",
   "execution_count": 5,
   "metadata": {},
   "outputs": [],
   "source": [
    "df_text['docu_len'] = df_text.Text.apply(lambda x: len(x.split('\\n')))"
   ]
  },
  {
   "cell_type": "code",
   "execution_count": 6,
   "metadata": {},
   "outputs": [],
   "source": [
    "# 统计每篇报告有多少句话\n",
    "from transformers import AutoTokenizer\n",
    "tokenizer = AutoTokenizer.from_pretrained(\"emilyalsentzer/Bio_Discharge_Summary_BERT\")\n",
    "seq_len = []\n",
    "doc_tokens = []\n",
    "def func2(x):\n",
    "    global sql_len, doc_tokens\n",
    "    x = x.split('\\n')\n",
    "    length = len(x)\n",
    "    number = 0\n",
    "    for i in range(length):\n",
    "        tokens = tokenizer.encode(x[i])\n",
    "        tmp_len  = len(tokens)\n",
    "        seq_len.append(tmp_len)\n",
    "        number += tmp_len\n",
    "    doc_tokens.append(number)"
   ]
  },
  {
   "cell_type": "code",
   "execution_count": 9,
   "metadata": {},
   "outputs": [
    {
     "name": "stdout",
     "output_type": "stream",
     "text": [
      "134.80815014336605 152.28598060357655\n",
      "22.821080246495825 32.665163800704455\n",
      "3076.4676123034146 3588.7338059327067\n",
      "135.03596559812354 157.06391866681602\n",
      "22.813008436057924 32.61183650036094\n",
      "3080.5766223612195 3704.3533669551684\n",
      "128.11497849041845 145.56012429050233\n",
      "22.764324307823806 32.685310751625515\n",
      "2916.4509190457566 3400.634186356055\n"
     ]
    }
   ],
   "source": [
    "note_train = df_text.iloc[train]\n",
    "note_val = df_text.iloc[val]\n",
    "note_test = df_text.iloc[test]\n",
    "for note_tmp in [note_train, note_val, note_test]:\n",
    "    seq_len = []\n",
    "    doc_tokens = []\n",
    "    for index, df_tmp in note_tmp.iterrows():\n",
    "        func2(df_tmp.Text)\n",
    "    for m in [note_tmp.docu_len, seq_len, doc_tokens]:\n",
    "        print(np.mean(m), np.std(m))\n"
   ]
  },
  {
   "cell_type": "code",
   "execution_count": 10,
   "metadata": {},
   "outputs": [
    {
     "name": "stdout",
     "output_type": "stream",
     "text": [
      "134.4803423479756 152.1906688721035\n",
      "22.764324307823806 32.685310751625515\n",
      "2916.4509190457566 3400.634186356055\n"
     ]
    }
   ],
   "source": [
    "for m in [df_text.docu_len, seq_len, doc_tokens]:\n",
    "    print(np.mean(m), np.std(m))\n",
    "    # print(min(df_text['docu_len']), max(df_text['docu_len']))\n",
    "    # print(min(seq_len), max(seq_len))"
   ]
  },
  {
   "cell_type": "code",
   "execution_count": 37,
   "metadata": {},
   "outputs": [
    {
     "name": "stdout",
     "output_type": "stream",
     "text": [
      "(0, 50]        5662\n",
      "(50, 100]     22707\n",
      "(100, 150]    15255\n",
      "(150, 200]     5423\n",
      "(200, 250]     1491\n",
      "(250, 300]      389\n",
      "(300, 350]      135\n",
      "(350, 400]       55\n",
      "(400, 450]       21\n",
      "(450, 500]        5\n",
      "(500, 550]        3\n",
      "(550, 600]        1\n",
      "(600, 650]        2\n",
      "(650, 700]        1\n",
      "(700, 750]        0\n",
      "(750, 800]        0\n",
      "(800, 850]        0\n",
      "(850, 900]        0\n",
      "(900, 950]        0\n",
      "dtype: int64\n"
     ]
    },
    {
     "data": {
      "image/png": "[encoded data removed]",
      "text/plain": [
       "<Figure size 640x480 with 1 Axes>"
      ]
     },
     "metadata": {},
     "output_type": "display_data"
    }
   ],
   "source": [
    "s = pd.cut(df_text.docu_len.values, bins=[i for i in range(0, 1000, 50)])\n",
    "print(s.value_counts())\n",
    "values = s.value_counts().values\n",
    "df = pd.DataFrame(values)\n",
    "df.plot(kind='bar', legend=False)\n",
    "plt.xticks(rotation=0)\n",
    "plt.ylabel('count')\n",
    "plt.xlabel('document length/50')\n",
    "plt.show()"
   ]
  },
  {
   "cell_type": "code",
   "execution_count": 38,
   "metadata": {},
   "outputs": [
    {
     "name": "stdout",
     "output_type": "stream",
     "text": [
      "(0, 50]       4552209\n",
      "(50, 100]      364543\n",
      "(100, 150]     141945\n",
      "(150, 200]      72662\n",
      "(200, 250]      39630\n",
      "(250, 300]      22875\n",
      "(300, 350]      13706\n",
      "(350, 400]       8743\n",
      "(400, 450]       5704\n",
      "dtype: int64\n"
     ]
    },
    {
     "data": {
      "image/png": "[encoded data removed]",
      "text/plain": [
       "<Figure size 640x480 with 1 Axes>"
      ]
     },
     "metadata": {},
     "output_type": "display_data"
    }
   ],
   "source": [
    "s = pd.cut(seq_len, bins=[i for i in range(0, 500, 50)])\n",
    "print(s.value_counts())\n",
    "values = s.value_counts().values\n",
    "df = pd.DataFrame(values)\n",
    "df.plot(kind='bar', legend=False)\n",
    "plt.xticks(rotation=0)\n",
    "plt.ylabel('count')\n",
    "plt.xlabel('sequence length/50')\n",
    "plt.show()"
   ]
  },
  {
   "cell_type": "code",
   "execution_count": 4,
   "metadata": {},
   "outputs": [],
   "source": [
    "df_note = pd.read_csv(datapath + 'rawdata/Noteevents.csv')"
   ]
  },
  {
   "cell_type": "code",
   "execution_count": 5,
   "metadata": {},
   "outputs": [
    {
     "data": {
      "text/html": [
       "<div>\n",
       "<style scoped>\n",
       "    .dataframe tbody tr th:only-of-type {\n",
       "        vertical-align: middle;\n",
       "    }\n",
       "\n",
       "    .dataframe tbody tr th {\n",
       "        vertical-align: top;\n",
       "    }\n",
       "\n",
       "    .dataframe thead th {\n",
       "        text-align: right;\n",
       "    }\n",
       "</style>\n",
       "<table border=\"1\" class=\"dataframe\">\n",
       "  <thead>\n",
       "    <tr style=\"text-align: right;\">\n",
       "      <th></th>\n",
       "      <th>PatientID</th>\n",
       "      <th>RecordID</th>\n",
       "      <th>Text</th>\n",
       "      <th>Time</th>\n",
       "      <th>category</th>\n",
       "    </tr>\n",
       "  </thead>\n",
       "  <tbody>\n",
       "    <tr>\n",
       "      <th>0</th>\n",
       "      <td>22532</td>\n",
       "      <td>167853.0</td>\n",
       "      <td>Admission Date:  [**2151-7-16**]       Dischar...</td>\n",
       "      <td>5730400800</td>\n",
       "      <td>Discharge_summary</td>\n",
       "    </tr>\n",
       "    <tr>\n",
       "      <th>1</th>\n",
       "      <td>13702</td>\n",
       "      <td>107527.0</td>\n",
       "      <td>Admission Date:  [**2118-6-2**]       Discharg...</td>\n",
       "      <td>4684615200</td>\n",
       "      <td>Discharge_summary</td>\n",
       "    </tr>\n",
       "    <tr>\n",
       "      <th>2</th>\n",
       "      <td>13702</td>\n",
       "      <td>167118.0</td>\n",
       "      <td>Admission Date:  [**2119-5-4**]              D...</td>\n",
       "      <td>4714423200</td>\n",
       "      <td>Discharge_summary</td>\n",
       "    </tr>\n",
       "    <tr>\n",
       "      <th>3</th>\n",
       "      <td>13702</td>\n",
       "      <td>196489.0</td>\n",
       "      <td>Admission Date:  [**2124-7-21**]              ...</td>\n",
       "      <td>4879620000</td>\n",
       "      <td>Discharge_summary</td>\n",
       "    </tr>\n",
       "    <tr>\n",
       "      <th>4</th>\n",
       "      <td>26880</td>\n",
       "      <td>135453.0</td>\n",
       "      <td>Admission Date:  [**2162-3-3**]              D...</td>\n",
       "      <td>6066151200</td>\n",
       "      <td>Discharge_summary</td>\n",
       "    </tr>\n",
       "  </tbody>\n",
       "</table>\n",
       "</div>"
      ],
      "text/plain": [
       "   PatientID  RecordID                                               Text  \\\n",
       "0      22532  167853.0  Admission Date:  [**2151-7-16**]       Dischar...   \n",
       "1      13702  107527.0  Admission Date:  [**2118-6-2**]       Discharg...   \n",
       "2      13702  167118.0  Admission Date:  [**2119-5-4**]              D...   \n",
       "3      13702  196489.0  Admission Date:  [**2124-7-21**]              ...   \n",
       "4      26880  135453.0  Admission Date:  [**2162-3-3**]              D...   \n",
       "\n",
       "         Time           category  \n",
       "0  5730400800  Discharge_summary  \n",
       "1  4684615200  Discharge_summary  \n",
       "2  4714423200  Discharge_summary  \n",
       "3  4879620000  Discharge_summary  \n",
       "4  6066151200  Discharge_summary  "
      ]
     },
     "execution_count": 5,
     "metadata": {},
     "output_type": "execute_result"
    }
   ],
   "source": [
    "df_note.head()"
   ]
  },
  {
   "cell_type": "code",
   "execution_count": 47,
   "metadata": {},
   "outputs": [
    {
     "name": "stdout",
     "output_type": "stream",
     "text": [
      "{'Case Management ': 619, 'Consult': 50, 'Discharge_summary': 52726, 'ECG': 44185, 'Echo': 23585, 'General': 3170, 'Nursing': 9070, 'Nursing/other': 34890, 'Nutrition': 3167, 'Pharmacy': 68, 'Physician ': 8983, 'Radiology': 45526, 'Rehab Services': 2249, 'Respiratory ': 3986, 'Social Work': 1393}\n"
     ]
    },
    {
     "data": {
      "image/png": "[encoded data removed]",
      "text/plain": [
       "<Figure size 640x480 with 1 Axes>"
      ]
     },
     "metadata": {},
     "output_type": "display_data"
    }
   ],
   "source": [
    "# 展示Noteevents每个category的数量\n",
    "df_note_grouped = df_note.groupby('category')\n",
    "cat_dic = {}\n",
    "for (cat, df_tmp) in df_note_grouped:\n",
    "    cat_dic[cat] = len(df_tmp.RecordID.unique())\n",
    "print(cat_dic)\n",
    "plt.figure()\n",
    "plt.bar(cat_dic.keys(), cat_dic.values())\n",
    "plt.xticks(rotation=75, fontsize=10)\n",
    "plt.show()"
   ]
  },
  {
   "cell_type": "code",
   "execution_count": 19,
   "metadata": {},
   "outputs": [],
   "source": [
    "tmppp = df_note[df_note.RecordID==173094.0]"
   ]
  },
  {
   "cell_type": "code",
   "execution_count": 20,
   "metadata": {},
   "outputs": [
    {
     "data": {
      "text/html": [
       "<div>\n",
       "<style scoped>\n",
       "    .dataframe tbody tr th:only-of-type {\n",
       "        vertical-align: middle;\n",
       "    }\n",
       "\n",
       "    .dataframe tbody tr th {\n",
       "        vertical-align: top;\n",
       "    }\n",
       "\n",
       "    .dataframe thead th {\n",
       "        text-align: right;\n",
       "    }\n",
       "</style>\n",
       "<table border=\"1\" class=\"dataframe\">\n",
       "  <thead>\n",
       "    <tr style=\"text-align: right;\">\n",
       "      <th></th>\n",
       "      <th>PatientID</th>\n",
       "      <th>RecordID</th>\n",
       "      <th>Text</th>\n",
       "      <th>Time</th>\n",
       "      <th>category</th>\n",
       "    </tr>\n",
       "  </thead>\n",
       "  <tbody>\n",
       "    <tr>\n",
       "      <th>34783</th>\n",
       "      <td>2513</td>\n",
       "      <td>173094.0</td>\n",
       "      <td>Admission Date:  [**2148-10-13**]             ...</td>\n",
       "      <td>5642704800</td>\n",
       "      <td>Discharge_summary</td>\n",
       "    </tr>\n",
       "    <tr>\n",
       "      <th>154660</th>\n",
       "      <td>2513</td>\n",
       "      <td>173094.0</td>\n",
       "      <td>Sinus bradycardia\\nInferior axis\\nLow limb lea...</td>\n",
       "      <td>5642532000</td>\n",
       "      <td>ECG</td>\n",
       "    </tr>\n",
       "    <tr>\n",
       "      <th>154661</th>\n",
       "      <td>2513</td>\n",
       "      <td>173094.0</td>\n",
       "      <td>Sinus rhythm\\nRight axis deviation\\nLow limb l...</td>\n",
       "      <td>5641927200</td>\n",
       "      <td>ECG</td>\n",
       "    </tr>\n",
       "    <tr>\n",
       "      <th>154662</th>\n",
       "      <td>2513</td>\n",
       "      <td>173094.0</td>\n",
       "      <td>Sinus rhythm\\nSevere right axis deviation\\nPos...</td>\n",
       "      <td>5641840800</td>\n",
       "      <td>ECG</td>\n",
       "    </tr>\n",
       "    <tr>\n",
       "      <th>154663</th>\n",
       "      <td>2513</td>\n",
       "      <td>173094.0</td>\n",
       "      <td>Sinus rhythm\\nRight axis deviation\\nPossible i...</td>\n",
       "      <td>5641840800</td>\n",
       "      <td>ECG</td>\n",
       "    </tr>\n",
       "    <tr>\n",
       "      <th>154664</th>\n",
       "      <td>2513</td>\n",
       "      <td>173094.0</td>\n",
       "      <td>Sinus rhythm\\nMarked right axis deviation\\nCon...</td>\n",
       "      <td>5641927200</td>\n",
       "      <td>ECG</td>\n",
       "    </tr>\n",
       "    <tr>\n",
       "      <th>790798</th>\n",
       "      <td>2513</td>\n",
       "      <td>173094.0</td>\n",
       "      <td>[**2148-10-13**] 8:56 AM\\n CHEST (PA &amp; LAT)   ...</td>\n",
       "      <td>5641836960</td>\n",
       "      <td>Radiology</td>\n",
       "    </tr>\n",
       "    <tr>\n",
       "      <th>791078</th>\n",
       "      <td>2513</td>\n",
       "      <td>173094.0</td>\n",
       "      <td>[**2148-10-21**] 6:22 PM\\n CHEST PORT. LINE PL...</td>\n",
       "      <td>5642562120</td>\n",
       "      <td>Radiology</td>\n",
       "    </tr>\n",
       "    <tr>\n",
       "      <th>799972</th>\n",
       "      <td>2513</td>\n",
       "      <td>173094.0</td>\n",
       "      <td>[**2148-10-22**] 9:19 AM\\n CHEST (PA &amp; LAT)   ...</td>\n",
       "      <td>5642615940</td>\n",
       "      <td>Radiology</td>\n",
       "    </tr>\n",
       "    <tr>\n",
       "      <th>801704</th>\n",
       "      <td>2513</td>\n",
       "      <td>173094.0</td>\n",
       "      <td>PERSANTINE MIBI                               ...</td>\n",
       "      <td>5641891200</td>\n",
       "      <td>Radiology</td>\n",
       "    </tr>\n",
       "    <tr>\n",
       "      <th>1062576</th>\n",
       "      <td>2513</td>\n",
       "      <td>173094.0</td>\n",
       "      <td>CCU NSG PROGRESS/ADMIT NOTE 9P-7A/ S/P ORAL SU...</td>\n",
       "      <td>5642253960</td>\n",
       "      <td>Nursing/other</td>\n",
       "    </tr>\n",
       "  </tbody>\n",
       "</table>\n",
       "</div>"
      ],
      "text/plain": [
       "         PatientID  RecordID  \\\n",
       "34783         2513  173094.0   \n",
       "154660        2513  173094.0   \n",
       "154661        2513  173094.0   \n",
       "154662        2513  173094.0   \n",
       "154663        2513  173094.0   \n",
       "154664        2513  173094.0   \n",
       "790798        2513  173094.0   \n",
       "791078        2513  173094.0   \n",
       "799972        2513  173094.0   \n",
       "801704        2513  173094.0   \n",
       "1062576       2513  173094.0   \n",
       "\n",
       "                                                      Text        Time  \\\n",
       "34783    Admission Date:  [**2148-10-13**]             ...  5642704800   \n",
       "154660   Sinus bradycardia\\nInferior axis\\nLow limb lea...  5642532000   \n",
       "154661   Sinus rhythm\\nRight axis deviation\\nLow limb l...  5641927200   \n",
       "154662   Sinus rhythm\\nSevere right axis deviation\\nPos...  5641840800   \n",
       "154663   Sinus rhythm\\nRight axis deviation\\nPossible i...  5641840800   \n",
       "154664   Sinus rhythm\\nMarked right axis deviation\\nCon...  5641927200   \n",
       "790798   [**2148-10-13**] 8:56 AM\\n CHEST (PA & LAT)   ...  5641836960   \n",
       "791078   [**2148-10-21**] 6:22 PM\\n CHEST PORT. LINE PL...  5642562120   \n",
       "799972   [**2148-10-22**] 9:19 AM\\n CHEST (PA & LAT)   ...  5642615940   \n",
       "801704   PERSANTINE MIBI                               ...  5641891200   \n",
       "1062576  CCU NSG PROGRESS/ADMIT NOTE 9P-7A/ S/P ORAL SU...  5642253960   \n",
       "\n",
       "                  category  \n",
       "34783    Discharge_summary  \n",
       "154660                 ECG  \n",
       "154661                 ECG  \n",
       "154662                 ECG  \n",
       "154663                 ECG  \n",
       "154664                 ECG  \n",
       "790798           Radiology  \n",
       "791078           Radiology  \n",
       "799972           Radiology  \n",
       "801704           Radiology  \n",
       "1062576      Nursing/other  "
      ]
     },
     "execution_count": 20,
     "metadata": {},
     "output_type": "execute_result"
    }
   ],
   "source": [
    "tmppp"
   ]
  },
  {
   "cell_type": "code",
   "execution_count": 30,
   "metadata": {},
   "outputs": [
    {
     "name": "stdout",
     "output_type": "stream",
     "text": [
      "Admission Date:  [**2148-10-13**]              Discharge Date:   [**2148-10-23**]\n",
      "\n",
      "Date of Birth:  [**2110-2-12**]             Sex:   M\n",
      "\n",
      "Service: MEDICINE\n",
      "\n",
      "Allergies:\n",
      "Patient recorded as having No Known Allergies to Drugs\n",
      "\n",
      "Attending:[**First Name3 (LF) 4765**]\n",
      "Chief Complaint:\n",
      "Chest pain\n",
      "\n",
      "Major Surgical or Invasive Procedure:\n",
      "Implantable Cardioverter Defibrillator (ICD) placed.\n",
      "\n",
      "\n",
      "History of Present Illness:\n",
      "38 M with 2V CABG [**5-30**], BiV pacer, dilated CM, CHF EF 20-25%\n",
      "[**8-1**], p/w CP and NSVT, now with stable VS, CP-free.\n",
      "Pt reports that fifteen minutes after participating in sexual\n",
      "activity at ~3am, patient acquired a chest pain that ran across\n",
      "both sides of his chest, with a predomination toward the right\n",
      "side, with subsequent radiation down his right arm. The pain was\n",
      "constant and was not resolving, which prompted a call to EMS.\n",
      "Patient is unsure if the pain resolved, and even how, admits to\n",
      "continued pain to [**Initials (NamePattern4) **] [**Last Name (NamePattern4) **] degree. Associated with the pain was a\n",
      "period of diaphoresis. Patient states that he has had \"6 heart\n",
      "attacks\" in the past and each had a different type of pain, and\n",
      "this pain is not exactly like the others. He does admit to a\n",
      "chronic, left-sided pain that is there \"all-the-time\" without\n",
      "resolution that is worse when he breathes.\n",
      "Other ROS is essentially negative, except for shortness of\n",
      "breath, which he states is chronic for him and his CHF. He also\n",
      "admits to an insiduous, intermittent visual clouding that began\n",
      "six months ago. He is passing his urine and bowels well, denying\n",
      "dysuria, hematuria, hematochezia. States he is mostly compliant\n",
      "with his medications but admits to missing a few doses as he\n",
      "dislikes medications.\n",
      "In the ED,EKG NSR, no PVCs. Short runs of VT but hemo stable and\n",
      "no syncope per EMS, no EKGs, no strips, but VT stopped on lido\n",
      "gtt from OSH. Transferred from [**Hospital3 417**] Hospital, where he\n",
      "had just been admitted for CHF exac. In ED, on heparin gtt, lido\n",
      "gtt from OSH continued here, nitro gtt, plavix, was given ASA at\n",
      "OSH. Pt did not take am meds this am, but has been compliant. Pt\n",
      "was told about \"ripped mitral valve\" and ?MVR per pt told to him\n",
      "by Dr. [**First Name8 (NamePattern2) 122**] [**Last Name (NamePattern1) **] and [**First Name4 (NamePattern1) **] [**Last Name (NamePattern1) 7047**] (outpt attg). He was\n",
      "told he would have mitral valve surgery after dentition surgery\n",
      "later this month, but hasn't been scheduled yet. Goes to [**Hospital 6451**], [**Hospital3 5097**], [**Hospital1 18**].\n",
      ".\n",
      "Last hospitalization [**2148-8-11**] - worsening shortness of breath x\n",
      "1-2 days, CP x 2 days, cough and LE edema x 1 day. The patient\n",
      "originally presented to [**Hospital3 417**] Hospital, where EKG\n",
      "showed frequent PVCs and telemetry showed runs of VT < 10 beats,\n",
      "given lidocaine. Admitted at [**Hospital1 **] for admitted for moderately\n",
      "decompensated CHF and rest angina. On telemetry throughout his\n",
      "stay he was noted to have numerous PVCs and a number of episodes\n",
      "of non-sustained ventricular tachycardia (5-10 beats). Had I&D\n",
      "of superficial abscess on right lower abdomen, +MRSA, completed\n",
      "14 days of Bactrim. DC plan for medical management, started on\n",
      "digoxin.\n",
      ".\n",
      "Last CATH [**2147-9-14**] - 3VD, occluded SVG-RPDA, patent LIMA-LAD.\n",
      "Last ECHO [**2148-8-12**]: Apical LV aneurysm, 1+MR, 1+TR. No EP report\n",
      "on when BiV pacer was placed.\n",
      "\n",
      "\n",
      "Past Medical History:\n",
      "2V CABG (question of CABG x2): SVG-RPDA occluded [**8-31**], LIMA-LAD\n",
      "patent\n",
      "CHF EF 20-25% in [**8-1**]\n",
      "Dilated cardiomyopathy\n",
      "HTN\n",
      "Hyperlipidemia\n",
      "BiV pacemaker - unsure of installation\n",
      "\n",
      "\n",
      "Social History:\n",
      "He is divorced and has one daughter. [**Name (NI) **] spent two months in\n",
      "prison secondary to domestic abuse charges. He quit smoking\n",
      "after his CABG. He does not use alcohol or illicit drugs. He\n",
      "does not work and is on disability. His mother is very ill and\n",
      "has hospice services. She is his main source of support.\n",
      "\n",
      "\n",
      "Family History:\n",
      "CAD - mother\n",
      "\n",
      "Physical Exam:\n",
      "T: 96-7 BP:117/77 HR: 85 RR: 20 96 O2 % RA\n",
      "Gen: Pt in NAD, A/Ox3, cooperative, watching television. Mild\n",
      "effort to breath as he returned from BR, resolved somewhat after\n",
      "return.\n",
      "HEENT: No conjunctival pallor. No icterus. MMM. OP clear.\n",
      "Dentition poor, no upper teeth, [**6-1**] incisors inferiorly with\n",
      "poor quality.\n",
      "NECK: Supple, No LAD, (+)JVD on right to about 5cm, none\n",
      "appreciated on lef. No thyromegaly.\n",
      "CV: RRR. nl S1, S2. No murmurs, rubs or [**Last Name (un) 549**]. Distant.\n",
      "LUNGS: CTAB, poor air movement. No overt W/R/C\n",
      "ABD: NABS. Soft, NT, ND.\n",
      "EXT: 2+ DP/PT pulses BL, edema [**1-29**] bil, pitting.\n",
      "SKIN: numerous psoriatic-like scaly patches on upper anterior\n",
      "torso and bilaterally on lower extremities around knees and\n",
      "shins. Healing I&D wound on right lower quadrant, mild erythema.\n",
      "\n",
      "NEURO: A&Ox3. Appropriate. CN 2-12 grossly intact, did not do\n",
      "fundoscopy. Preserved sensation throughout. 5/5 strength\n",
      "throughout. [**1-29**]+ reflexes, equal BL. Normal coordination. Gait\n",
      "assessment deferred\n",
      "PSYCH: Listens and responds to questions appropriately, pleasant\n",
      "\n",
      "\n",
      "\n",
      "Pertinent Results:\n",
      "CXR [**2148-10-13**]:\n",
      "1. Cardiomegaly. Status post sternotomy. Pacemaker present.\n",
      "2. Prominent hila, which raises the question of pulmonary\n",
      "hypertension. The lungs are hyperinflated, which may indicate\n",
      "COPD.\n",
      "3. Mild upper zone redistribution and increased perihilar\n",
      "interstitial markings. This could represent early CHF.\n",
      "4. Small (approximately 12 mm) opacities in the right suprahilar\n",
      "region. These may be related to the acute process about the hila\n",
      "and are in areas where bones, vessels, and oxygen tubing are\n",
      "overlapping. However, repeat PA and lateral views when the\n",
      "patient is stable is recommended to further assess this area.\n",
      ".\n",
      "ECHO [**2148-8-12**]: LVEF 20-25%, LV apical aneurysm, [**Name Prefix (Prefixes) **] [**Last Name (Prefixes) 1914**]\n",
      "4.5x7.0 cm, no E/A ratio noted, E/E' 21 (<15) suggesting PCWP >\n",
      "18, PASP 36\n",
      "1+ MR, 1+ TR\n",
      ".\n",
      "CATH [**2147-9-14**]:\n",
      "Coronary artery disease, s/p 2V CABG with rest angina.\n",
      "FINAL DIAGNOSIS:\n",
      "1. Severe three vessel coronary artery disease.\n",
      "2. Occluded SVG --> PDA.\n",
      "3. Patent LIMA --> LAD.\n",
      "4. Left ventricular diastolic dysfunction.\n",
      "LMCA - patent\n",
      "LAD - occ mid (after takeoff of D1 and septal 1)\n",
      "LCX - large OM1 which fills collaterals to RCA, mid-AV groove\n",
      "occ\n",
      "RCA - dominant vessel, occ mid\n",
      "RPDA - fed by R->L collaterals\n",
      "Large acute marginal branch - patent\n",
      "\n",
      "\n",
      "Brief Hospital Course:\n",
      "# Chest pain - Patient had risk factors for active acute\n",
      "coronary syndrome, but he had no EKG changes and his cardiac\n",
      "enzymes were negative. He had a p-MIBI to further evaluate his\n",
      "myocardial perfusion which showed significant, fixed, diffuse\n",
      "perfusion defects but no reversible changes and no new changes\n",
      "from prior.  He was therefore, not a candidate for further\n",
      "investigation by catheterization.  He was continued on aspirin\n",
      "and plavix.  His metoprolol and lisinopril were increased over\n",
      "the course of his hospitalization.  He complained of a vague\n",
      "chest discomfort throughout the course of his hospitalization\n",
      "which was worked up with EKGs without acute changes.  However,\n",
      "he had no further chest pain episodes similar to the complaints\n",
      "he had on initial persentation. The patient's lisinopril was\n",
      "discontinued for a period of several days after a creatinine\n",
      "elevation. Hydralazine 10mg Q6h was used during this time to\n",
      "improve forward flow. Prior to discharge (after improvement in\n",
      "Cr toward baseline) the patient was switched back onto\n",
      "lisinopril and hydralazine was discontinued. The patient was\n",
      "without chest pain for 48 hours prior to discharge.\n",
      ".\n",
      "# Ventricular arrhythmia - Patient had a history of 23 seconds\n",
      "of Ventricular tachycardia associated with syncope in [**2146**]. He\n",
      "also had NSVT by report on transfer to [**Hospital1 18**] and continued to\n",
      "have occasional episodes of asymptomatic NSVT on telemetry\n",
      "during his hospitalization. The patient has decreased systolic\n",
      "dysfunction, CAD, and a history of VTach so he was seen as an\n",
      "excellent candidate for ICD placement. Patient had refused ICD\n",
      "placement in the past but was amenable to placement this\n",
      "admission.  However, given his extremely poor dentition, he\n",
      "required tooth extractions prior to proceding with the ICD\n",
      "placement with concern for hardware infection. Patient had his\n",
      "remaining teeth extracted in the OR by the oral surgeons and\n",
      "required a one night stay in the CCU for hypotension likely\n",
      "secondary to pain medications.  However, he returned to the\n",
      "floor the following day and went for ICD placement the following\n",
      "Monday.  He was maintained on clindamycin 450 mg Q 6 hours\n",
      "before and 1 week after ICD placement for prophylaxis. The\n",
      "patient had no episodes of ICD firing and was without telemetry\n",
      "issues. He was without significant pain at the ICD site 24 hours\n",
      "after placement.\n",
      ".\n",
      "# Heart failure: Patient had no evidence of decompensated CHF\n",
      "during admission. He had no crackles on exam and had no lower\n",
      "extremity edema. His lisinopril and Metoprolol were increased.\n",
      "He continued to be hypotensive but asympatomatic even with\n",
      "ambulation with average SBPs in the 90s. He was also continued\n",
      "on his home dose lasix, spironolactone, and dixogin throughout\n",
      "admission. Soon after the lisinopril was increased the patient\n",
      "had a creatinine bump. This medication was held with improvement\n",
      "in his Cr and then was restarted at his original dose on\n",
      "discharge. While the lisinopril was held, the patient received\n",
      "hydralazine 10mg Q6 to reduce afterload. This was discontinued\n",
      "prior to discharge.\n",
      ".\n",
      "# Creatinine elevation- His creatinines wavered around a steady\n",
      "baseline throughout admission.  His lisinopril was held for a\n",
      "short period of time but was then restarted. He was continued on\n",
      "his lasix and spironolactone throughout admission.\n",
      ".\n",
      "# COPD - The patient had no clinical signs of an active\n",
      "exacerbation. However he did state that he uses Advair and\n",
      "albuterol at home, despite no medications on his prior discharge\n",
      "summaries. He was continued on atrovent and flovent nebs as\n",
      "needed for symptomatic relief of shortness of breath.   Beta\n",
      "agonists were avoided given his significant cardiac disease.\n",
      ".\n",
      "# Psoriasis- The patient had psoriatic skin lesions on abdomen,\n",
      "upper, and lower extremities which he said were at his baseline\n",
      "and were never symptomatic. He was maintained on Betamethasone\n",
      "cream [**Hospital1 **].\n",
      ".\n",
      "# MRSA history- he had a history of a prior MRSA\n",
      "cellulitis/abscess on his abdomen and was kept on precautions\n",
      "throughout admission. He had no evidence of further infection\n",
      "during the course of admission.\n",
      "\n",
      "\n",
      "Medications on Admission:\n",
      "Pantoprazole 40 mg QD\n",
      "Aspirin 325 mg QD\n",
      "Clopidogrel 75 mg QD\n",
      "Folic Acid 1 mg QD\n",
      "Gemfibrozil 600 mg [**Hospital1 **]\n",
      "Atorvastatin 80 mg QD\n",
      "Ezetimibe 10 mg QD\n",
      "Metoprolol XL 25 mg QD\n",
      "Lasix 80 mg QAM, 40 mg QPM\n",
      "Lisinopril 5 mg Tablet QD\n",
      "Spironolactone 25 mg QD\n",
      "Digoxin 125 mcg QD\n",
      "Betamethasone Dipropionate 0.05% Cream topical [**Hospital1 **]\n",
      "\n",
      "\n",
      "Discharge Medications:\n",
      "1. Digoxin 125 mcg Tablet Sig: One (1) Tablet PO DAILY (Daily).\n",
      "Disp:*30 Tablet(s)* Refills:*2*\n",
      "2. Atorvastatin 80 mg Tablet Sig: One (1) Tablet PO DAILY\n",
      "(Daily).\n",
      "Disp:*30 Tablet(s)* Refills:*2*\n",
      "3. Spironolactone 25 mg Tablet Sig: One (1) Tablet PO DAILY\n",
      "(Daily).\n",
      "Disp:*30 Tablet(s)* Refills:*2*\n",
      "4. Furosemide 80 mg Tablet Sig: One (1) Tablet PO QAM (once a\n",
      "day (in the morning)).\n",
      "Disp:*30 Tablet(s)* Refills:*2*\n",
      "5. Aspirin 81 mg Tablet, Chewable Sig: One (1) Tablet, Chewable\n",
      "PO DAILY (Daily).\n",
      "Disp:*30 Tablet, Chewable(s)* Refills:*2*\n",
      "6. Clopidogrel 75 mg Tablet Sig: One (1) Tablet PO DAILY\n",
      "(Daily).\n",
      "Disp:*30 Tablet(s)* Refills:*2*\n",
      "7. Metoprolol Tartrate 25 mg Tablet Sig: One (1) Tablet PO BID\n",
      "(2 times a day).\n",
      "Disp:*60 Tablet(s)* Refills:*2*\n",
      "8. Ezetimibe 10 mg Tablet Sig: One (1) Tablet PO DAILY (Daily).\n",
      "Disp:*30 Tablet(s)* Refills:*2*\n",
      "9. Gemfibrozil 600 mg Tablet Sig: One (1) Tablet PO BID (2 times\n",
      "a day).\n",
      "Disp:*60 Tablet(s)* Refills:*2*\n",
      "10. Clindamycin HCl 150 mg Capsule Sig: Three (3) Capsule PO Q6H\n",
      "(every 6 hours) for 6 days.\n",
      "Disp:*72 Capsule(s)* Refills:*0*\n",
      "11. Fluticasone 110 mcg/Actuation Aerosol Sig: Two (2) Puff\n",
      "Inhalation [**Hospital1 **] (2 times a day).\n",
      "Disp:*QS * Refills:*2*\n",
      "12. Lisinopril 5 mg Tablet Sig: One (1) Tablet PO once a day.\n",
      "Disp:*30 Tablet(s)* Refills:*2*\n",
      "13. Outpatient Lab Work\n",
      "Blood draw: BUN, Cr.\n",
      "To be drawn prior to your follow-up appointment with your\n",
      "primary care physician on [**2148-10-29**].\n",
      "14. Folic Acid 1 mg Tablet Sig: One (1) Tablet PO DAILY (Daily).\n",
      "Disp:*30 Tablet(s)* Refills:*2*\n",
      "15. Oxycodone-Acetaminophen 5-325 mg Tablet Sig: 1-2 Tablets PO\n",
      "Q4-6H (every 4 to 6 hours) as needed for pain for 5 doses.\n",
      "Disp:*5 Tablet(s)* Refills:*0*\n",
      "\n",
      "\n",
      "Discharge Disposition:\n",
      "Home\n",
      "\n",
      "Discharge Diagnosis:\n",
      "1. Arrhythmia - non-sustained ventricular tachycardia\n",
      "2. Congestive heart failure\n",
      "3. Dilated Cardiomyopathy\n",
      "4. COPD\n",
      "\n",
      "\n",
      "Discharge Condition:\n",
      "Good\n",
      "\n",
      "\n",
      "Discharge Instructions:\n",
      "Take all medications as prescribed.\n",
      ".\n",
      "Attend all follow-up appointments.\n",
      ".\n",
      "Have your creatinine checked by your primary care provider now\n",
      "that you have restarted lisinopril, which can affect kidney\n",
      "function.\n",
      ".\n",
      "Weigh yourself every morning, [**Name8 (MD) 138**] MD if weight > 3 lbs.\n",
      "Adhere to 2 gm sodium diet.\n",
      "Fluid Restriction: less than 1.5 L per day.\n",
      ".\n",
      "Call your doctor or return to the hospital if you are having\n",
      "worsening shortness of breath, significant chest pain, dizziness\n",
      "or lightheadedness.\n",
      "\n",
      "Followup Instructions:\n",
      "Follow-up with your primary care provider, [**Last Name (NamePattern4) **]. [**Last Name (STitle) 7047**]\n",
      "([**Telephone/Fax (1) 40023**]) Tuesday, [**2148-10-29**] 12:00. Have your blood\n",
      "drawn for creatinine measurement prior to this appointment as\n",
      "you are on lisinopril.\n",
      ".\n",
      "Follow-up with cardiology:\n",
      "- DEVICE CLINIC Phone:[**Telephone/Fax (1) 59**] Date/Time:[**2148-10-29**] 3:00\n",
      "- Dr. [**Last Name (STitle) 63352**], [**2148-11-1**], 11:20AM [**Last Name (un) 469**] 7\n",
      ".\n",
      "For dentures please schedule an appointment with [**University/College **] dental:\n",
      "[**Telephone/Fax (1) **]\n",
      "\n",
      "\n",
      "\n",
      "\n"
     ]
    }
   ],
   "source": [
    "print(tmppp.iloc[0, 2])"
   ]
  },
  {
   "cell_type": "code",
   "execution_count": 5,
   "metadata": {},
   "outputs": [
    {
     "name": "stdout",
     "output_type": "stream",
     "text": [
      "[**2150-4-17**] 3:32 PM\n",
      " LIVER OR GALLBLADDER US (SINGLE ORGAN)                          Clip # [**Clip Number (Radiology) 6613**]\n",
      " Reason: ?portal vein thrombosis, ?tapable ascites (please mark)\n",
      " ______________________________________________________________________________\n",
      " [**Hospital 2**] MEDICAL CONDITION:\n",
      "  59 year old man with liver disease, portal hypertension, now worsening LFTs,\n",
      "  vomiting\n",
      " REASON FOR THIS EXAMINATION:\n",
      "  ?portal vein thrombosis, ?tapable ascites (please mark)\n",
      " ______________________________________________________________________________\n",
      " WET READ: GWp FRI [**2150-4-17**] 3:58 PM\n",
      "  No tapable ascites\n",
      "  PV patent with normal hepatopetal flow\n",
      " ______________________________________________________________________________\n",
      "                                 FINAL REPORT\n",
      " INDICATION:  59-year-old man with liver disease and portal hypertension now\n",
      " with worsening LFTs, query portal vein thrombosis with tapable ascites for\n",
      " mark.\n",
      "\n",
      " COMPARISON:  [**2150-4-8**].\n",
      "\n",
      " LLIVER/GALLBLADDER ULTRASOUND:  [**Doctor Last Name **] scale and color Doppler son[**Name (NI) 110**]\n",
      " images demonstrate a persistently coarsened echotexture and nodular surface\n",
      " consistent with the known history of cirrhosis.  There is no large ascites.\n",
      " There is a sliver of perihepatic ascites.  Main portal venous flow is\n",
      " hepatopetal and of normal velocity.  Portal venous flow appears wall-to-wall.\n",
      " There is no intra- or extra-hepatic bile duct dilatation with the common bile\n",
      " duct measuring 5 mm.  The gallbladder appears normal.  There is no\n",
      " cholelithiasis.  Limited views of the pancreas are normal.  The spleen\n",
      " measures 12.9 cm and is of normal echotexture.\n",
      "\n",
      " IMPRESSION:\n",
      " 1.  No son[**Name (NI) 110**] evidence for portal venous thrombosis.  Portal vein flow is\n",
      " hepatopetal and wall-to-wall.\n",
      " 2.  No significant ascites.  A sliver of perihepatic ascites.\n",
      " 3.  Persistent coarsened echotexture of the liver consistent with known\n",
      " history of cirrhosis.\n",
      " 4.  Splenomegaly\n",
      "\n",
      " COMMENT:  These results were posted to the ED dashboard at the time of\n",
      " interpretation.\n",
      "\n",
      "\n",
      "+++++++++++++++++++++++++++++++++++++++++++++++++++++++++++++++++++++++++++++++++++\n",
      "[**2108-4-10**] 6:14 AM\n",
      " CHEST (PORTABLE AP)                                             Clip # [**Clip Number (Radiology) 33133**]\n",
      " Reason: Please assess for infiltrates.\n",
      " ______________________________________________________________________________\n",
      " [**Hospital 3**] MEDICAL CONDITION:\n",
      "    48 year old woman with hx of asthma multiple myeloma, pulmonary embolism\n",
      "  comes  in s/p URI and now worsening sob. Bibasilar crackles.\n",
      " REASON FOR THIS EXAMINATION:\n",
      "  Please assess for infiltrates.\n",
      " ______________________________________________________________________________\n",
      "                                 FINAL REPORT\n",
      " CLINICAL INDICATION:  48 year old female with history of asthma, now with\n",
      " worsening dyspnea.\n",
      "\n",
      " TECHNIQUE:  Portable AP chest.\n",
      "\n",
      " COMPARISON:  [**2108-4-6**].\n",
      "\n",
      " FINDINGS:  The cardiac and mediastinal contours appear stable.  There is no\n",
      " pulmonary vascular engorgement.  The lungs appear clear, with no confluent\n",
      " areas of opacification.  There are no pleural effusions.  The visualized\n",
      " osseous structures and soft tissues are unremarkable.\n",
      "\n",
      " IMPRESSION:  No acute cardiopulmonary abnormalities.\n",
      "\n",
      "\n",
      "+++++++++++++++++++++++++++++++++++++++++++++++++++++++++++++++++++++++++++++++++++\n"
     ]
    }
   ],
   "source": [
    "# 展示每个category的报告样例\n",
    "# Discharge_summary 出院报告\n",
    "# ECG 心电图报告\n",
    "# Echo 超声波报告\n",
    "# Nursing 护士陪护笔记\n",
    "df3 = df_note[df_note.category==\"Radiology\"]\n",
    "df3_grouped = df3.groupby('RecordID')\n",
    "cnt = 0\n",
    "for (cat, df_tmp) in df3_grouped:\n",
    "    '''\n",
    "    if len(df_tmp) != 0:\n",
    "        print(\"***************************************************\")\n",
    "        print(\"category:{}\".format(cat))\n",
    "        print(df_tmp.iloc[0, 2])\n",
    "    '''\n",
    "    if len(df_tmp) > 1:\n",
    "        print(df_tmp.iloc[0, 2])\n",
    "        print('+++++++++++++++++++++++++++++++++++++++++++++++++++++++++++++++++++++++++++++++++++')\n",
    "        if cnt == 1:\n",
    "            break\n",
    "        cnt += 1"
   ]
  },
  {
   "attachments": {},
   "cell_type": "markdown",
   "metadata": {},
   "source": [
    "### 多模态可行性\n",
    "##### 两模态时间上是否对齐"
   ]
  },
  {
   "cell_type": "code",
   "execution_count": 19,
   "metadata": {},
   "outputs": [],
   "source": [
    "# 统计每份报告记录于哪天\n",
    "def time_summarize(df):\n",
    "    df.sort_values('RecordID', ascending=True, inplace=True)\n",
    "    df_grouped = df.groupby('RecordID')\n",
    "    res = {}\n",
    "    for group in df_grouped:\n",
    "        recordId, df0 = group[0], group[1]\n",
    "        length = len(df0)\n",
    "        ave = sum(df0.Time) / length\n",
    "        res[recordId] = ave / 86400   # 3600 * 24\n",
    "    return res"
   ]
  },
  {
   "cell_type": "code",
   "execution_count": 22,
   "metadata": {},
   "outputs": [],
   "source": [
    "sens_date = time_summarize(df_ts)\n",
    "text_date = time_summarize(df_text)"
   ]
  },
  {
   "cell_type": "code",
   "execution_count": 23,
   "metadata": {},
   "outputs": [
    {
     "name": "stdout",
     "output_type": "stream",
     "text": [
      "sensors:57020, notes51151, intersection:51151\n"
     ]
    }
   ],
   "source": [
    "# 病患ID两模态交集数\n",
    "set1 = set(sens_date.keys())\n",
    "set2 = set(text_date.keys())\n",
    "set3 = set1 & set2\n",
    "print(\"sensors:{0}, notes{1}, intersection:{2}\".format(len(set1), len(set2), len(set3)))"
   ]
  },
  {
   "cell_type": "code",
   "execution_count": 24,
   "metadata": {},
   "outputs": [],
   "source": [
    "s_date = np.array([value for key, value in sens_date.items() if key in set3])\n",
    "t_date = np.array([value for key, value in text_date.items() if key in set3])\n",
    "s_norm = (s_date - np.min(s_date)) / (np.max(s_date) - np.min(s_date))\n",
    "t_norm = (t_date - np.min(t_date)) / (np.max(t_date) - np.min(t_date))"
   ]
  },
  {
   "cell_type": "code",
   "execution_count": 25,
   "metadata": {},
   "outputs": [],
   "source": [
    "# 随机挑选100份记录\n",
    "thesize = len(s_norm)\n",
    "indexs = np.arange(0, thesize, 1, dtype=np.int32)\n",
    "np.random.shuffle(indexs)\n",
    "indexs = indexs[:100]\n",
    "s_norm = s_norm[indexs]\n",
    "t_norm = t_norm[indexs]"
   ]
  },
  {
   "cell_type": "code",
   "execution_count": 27,
   "metadata": {},
   "outputs": [
    {
     "data": {
      "image/png": "[encoded data removed]",
      "text/plain": [
       "<Figure size 600x450 with 1 Axes>"
      ]
     },
     "metadata": {},
     "output_type": "display_data"
    }
   ],
   "source": [
    "fig, ax = plt.subplots(1, 1,figsize=(4,3),dpi=150)\n",
    "ax.plot((0, 1), (0, 1), transform=ax.transAxes, ls='-',c='k', linewidth=0.5)\n",
    "ax.scatter(s_norm, t_norm, s=5, c='royalblue', marker='o')\n",
    "plt.ylabel('text')\n",
    "plt.xlabel('sensors')\n",
    "plt.show()"
   ]
  },
  {
   "cell_type": "code",
   "execution_count": 6,
   "metadata": {},
   "outputs": [],
   "source": [
    "data = np.load('../Multi_data/P18_Discharge_summary/PTdict_list.npy', allow_pickle=True)"
   ]
  },
  {
   "cell_type": "code",
   "execution_count": 10,
   "metadata": {},
   "outputs": [],
   "source": [
    "a = data[0]['arr']"
   ]
  },
  {
   "cell_type": "code",
   "execution_count": 2,
   "metadata": {},
   "outputs": [],
   "source": [
    "df = pd.read_csv('./PubMed_Timeline_Results_by_Year.csv')"
   ]
  },
  {
   "cell_type": "code",
   "execution_count": 3,
   "metadata": {},
   "outputs": [
    {
     "data": {
      "text/html": [
       "<div>\n",
       "<style scoped>\n",
       "    .dataframe tbody tr th:only-of-type {\n",
       "        vertical-align: middle;\n",
       "    }\n",
       "\n",
       "    .dataframe tbody tr th {\n",
       "        vertical-align: top;\n",
       "    }\n",
       "\n",
       "    .dataframe thead th {\n",
       "        text-align: right;\n",
       "    }\n",
       "</style>\n",
       "<table border=\"1\" class=\"dataframe\">\n",
       "  <thead>\n",
       "    <tr style=\"text-align: right;\">\n",
       "      <th></th>\n",
       "      <th>Year</th>\n",
       "      <th>Count</th>\n",
       "    </tr>\n",
       "  </thead>\n",
       "  <tbody>\n",
       "    <tr>\n",
       "      <th>0</th>\n",
       "      <td>2023</td>\n",
       "      <td>766</td>\n",
       "    </tr>\n",
       "    <tr>\n",
       "      <th>1</th>\n",
       "      <td>2022</td>\n",
       "      <td>1690</td>\n",
       "    </tr>\n",
       "    <tr>\n",
       "      <th>2</th>\n",
       "      <td>2021</td>\n",
       "      <td>1611</td>\n",
       "    </tr>\n",
       "    <tr>\n",
       "      <th>3</th>\n",
       "      <td>2020</td>\n",
       "      <td>1249</td>\n",
       "    </tr>\n",
       "    <tr>\n",
       "      <th>4</th>\n",
       "      <td>2019</td>\n",
       "      <td>1112</td>\n",
       "    </tr>\n",
       "  </tbody>\n",
       "</table>\n",
       "</div>"
      ],
      "text/plain": [
       "   Year  Count\n",
       "0  2023    766\n",
       "1  2022   1690\n",
       "2  2021   1611\n",
       "3  2020   1249\n",
       "4  2019   1112"
      ]
     },
     "execution_count": 3,
     "metadata": {},
     "output_type": "execute_result"
    }
   ],
   "source": [
    "df.head()"
   ]
  },
  {
   "cell_type": "code",
   "execution_count": 18,
   "metadata": {},
   "outputs": [],
   "source": [
    "x = list(df.Year)[1:]\n",
    "y = list(df.Count)[1:]"
   ]
  },
  {
   "cell_type": "code",
   "execution_count": 20,
   "metadata": {},
   "outputs": [
    {
     "data": {
      "text/plain": [
       "Text(0.5, 0, 'years')"
      ]
     },
     "execution_count": 20,
     "metadata": {},
     "output_type": "execute_result"
    },
    {
     "data": {
      "image/png": "[encoded data removed]",
      "text/plain": [
       "<Figure size 640x480 with 1 Axes>"
      ]
     },
     "metadata": {},
     "output_type": "display_data"
    }
   ],
   "source": [
    "plt.bar(x, y)\n",
    "plt.title('EHRs research counts')\n",
    "plt.ylabel('counts')\n",
    "plt.xlabel('years')"
   ]
  }
 ],
 "metadata": {
  "kernelspec": {
   "display_name": "CVD",
   "language": "python",
   "name": "python3"
  },
  "language_info": {
   "codemirror_mode": {
    "name": "ipython",
    "version": 3
   },
   "file_extension": ".py",
   "mimetype": "text/x-python",
   "name": "python",
   "nbconvert_exporter": "python",
   "pygments_lexer": "ipython3",
   "version": "3.7.13"
  },
  "orig_nbformat": 4
 },
 "nbformat": 4,
 "nbformat_minor": 2
}
