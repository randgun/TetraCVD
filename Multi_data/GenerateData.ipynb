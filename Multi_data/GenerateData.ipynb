{
 "cells": [
  {
   "cell_type": "code",
   "execution_count": 1,
   "metadata": {},
   "outputs": [
    {
     "name": "stderr",
     "output_type": "stream",
     "text": [
      "/home/kelon/anaconda3/envs/CVD/lib/python3.7/site-packages/tqdm/auto.py:22: TqdmWarning: IProgress not found. Please update jupyter and ipywidgets. See https://ipywidgets.readthedocs.io/en/stable/user_install.html\n",
      "  from .autonotebook import tqdm as notebook_tqdm\n"
     ]
    }
   ],
   "source": [
    "import pandas as pd\n",
    "import numpy as np\n",
    "from tqdm import tqdm\n",
    "import os\n",
    "import sys\n",
    "sys.path.append(\"..\")\n",
    "\n",
    "from utils.tools import randomSplit"
   ]
  },
  {
   "cell_type": "code",
   "execution_count": 7,
   "metadata": {},
   "outputs": [
    {
     "name": "stdout",
     "output_type": "stream",
     "text": [
      "/home/kelon/code/CVD/Multi_data\n"
     ]
    }
   ],
   "source": [
    "print(os.getcwd())\n",
    "# modify\n",
    "ts_data = 'P18'\n",
    "\n",
    "# modify\n",
    "text_data = 'Discharge_summary'\n",
    "\n",
    "save_dir = ts_data + '_' + text_data + '/'\n",
    "\n",
    "raw_path = save_dir + 'rawdata/'\n",
    "text_path = raw_path + text_data + '.csv'"
   ]
  },
  {
   "cell_type": "code",
   "execution_count": 3,
   "metadata": {},
   "outputs": [],
   "source": [
    "df_ts = pd.read_csv(raw_path + 'biomarks_plus.csv', low_memory=False)\n",
    "df_text = pd.read_csv(text_path, low_memory=False)\n",
    "df_label = pd.read_csv(raw_path + 'Outcomes.csv', sep=\",\", header=0,\n",
    "                        names=[\"RecordID\",\"PatientID\",\"Length_of_stay\",\"Death\",\"Cvd\", \"ICD\"])"
   ]
  },
  {
   "cell_type": "code",
   "execution_count": 4,
   "metadata": {},
   "outputs": [],
   "source": [
    "ts_params = df_ts.Parameter.unique()\n",
    "ts_params = list(ts_params)\n",
    "ts_params = np.array(ts_params)"
   ]
  },
  {
   "cell_type": "code",
   "execution_count": 5,
   "metadata": {},
   "outputs": [],
   "source": [
    "# modify according to time series dataset\n",
    "static_params = ['Age','Gender','Ethnicity','Marital']"
   ]
  },
  {
   "cell_type": "code",
   "execution_count": 6,
   "metadata": {},
   "outputs": [
    {
     "name": "stdout",
     "output_type": "stream",
     "text": [
      "ts_params.npy: the names of variables\n",
      "save names of static descriptors: static_params.npy\n"
     ]
    }
   ],
   "source": [
    "# 保存时序变量和静态变量\n",
    "np.save(save_dir + 'ts_params.npy', ts_params)\n",
    "print('ts_params.npy: the names of variables')\n",
    "\n",
    "np.save(save_dir + 'static_params.npy', static_params)\n",
    "print('save names of static descriptors: static_params.npy')"
   ]
  },
  {
   "cell_type": "code",
   "execution_count": 7,
   "metadata": {},
   "outputs": [],
   "source": [
    "def parse_all(path, num):\n",
    "    # num is the number of static parameters\n",
    "    P_list = []\n",
    "    cnt = 0\n",
    "    allfiles = os.listdir(path)\n",
    "    allfiles.sort()\n",
    "    for f in tqdm(allfiles):\n",
    "        file_name, file_ext = os.path.splitext(f)\n",
    "        if file_ext == '.txt':\n",
    "            df = pd.read_csv(path+file_name+'.txt', sep=\",\", header=1, names=[\"time\", \"param\", \"value\"])\n",
    "            df_demogr = df.iloc[0:num]\n",
    "            # print(df_demogr)\n",
    "            df_data = df.iloc[num:]\n",
    "            \n",
    "            arr_demogr = np.array(df_demogr)\n",
    "            arr_data = np.array(df_data)\n",
    "\n",
    "            my_dict = {'id': file_name, 'static':[]}\n",
    "            for i in range(num):\n",
    "                my_dict['static'].append(int(arr_demogr[i,2]))\n",
    "\n",
    "            # time-series\n",
    "            my_dict['ts'] = arr_data\n",
    "            \n",
    "            # append patient dictionary in master dictionary\n",
    "            P_list.append(my_dict)\n",
    "            cnt += 1\n",
    "    return P_list"
   ]
  },
  {
   "cell_type": "code",
   "execution_count": 8,
   "metadata": {},
   "outputs": [
    {
     "name": "stderr",
     "output_type": "stream",
     "text": [
      "100%|██████████| 56857/56857 [01:31<00:00, 619.63it/s]\n"
     ]
    }
   ],
   "source": [
    "P_list = parse_all(raw_path + 'set/', len(static_params))"
   ]
  },
  {
   "cell_type": "code",
   "execution_count": 9,
   "metadata": {},
   "outputs": [],
   "source": [
    "# judge if P_list['id'] is sorted\n",
    "arr = []\n",
    "for item in P_list:\n",
    "    arr.append(int(item['id']))\n",
    "assert arr == sorted(arr)"
   ]
  },
  {
   "cell_type": "code",
   "execution_count": 10,
   "metadata": {},
   "outputs": [],
   "source": [
    "np.save(save_dir + 'P_list.npy', P_list)"
   ]
  },
  {
   "cell_type": "code",
   "execution_count": 11,
   "metadata": {},
   "outputs": [],
   "source": [
    "label_set = set(df_label.RecordID.unique())\n",
    "ts_set = set(df_ts.RecordID.unique())\n",
    "text_set = set(df_text.RecordID.unique())\n",
    "inter_set = label_set & ts_set & text_set"
   ]
  },
  {
   "cell_type": "code",
   "execution_count": 12,
   "metadata": {},
   "outputs": [
    {
     "data": {
      "text/plain": [
       "51176"
      ]
     },
     "execution_count": 12,
     "metadata": {},
     "output_type": "execute_result"
    }
   ],
   "source": [
    "len(inter_set)"
   ]
  },
  {
   "cell_type": "code",
   "execution_count": 13,
   "metadata": {},
   "outputs": [],
   "source": [
    "# filter labels\n",
    "df_label.set_index('RecordID', inplace=True)\n",
    "df_label = df_label.loc[inter_set]\n",
    "df_label.reset_index(inplace=True)\n",
    "df_label.sort_values(['RecordID'], ascending=True, inplace=True)"
   ]
  },
  {
   "cell_type": "code",
   "execution_count": 14,
   "metadata": {},
   "outputs": [
    {
     "data": {
      "text/html": [
       "<div>\n",
       "<style scoped>\n",
       "    .dataframe tbody tr th:only-of-type {\n",
       "        vertical-align: middle;\n",
       "    }\n",
       "\n",
       "    .dataframe tbody tr th {\n",
       "        vertical-align: top;\n",
       "    }\n",
       "\n",
       "    .dataframe thead th {\n",
       "        text-align: right;\n",
       "    }\n",
       "</style>\n",
       "<table border=\"1\" class=\"dataframe\">\n",
       "  <thead>\n",
       "    <tr style=\"text-align: right;\">\n",
       "      <th></th>\n",
       "      <th>RecordID</th>\n",
       "      <th>PatientID</th>\n",
       "      <th>Length_of_stay</th>\n",
       "      <th>Death</th>\n",
       "      <th>Cvd</th>\n",
       "      <th>ICD</th>\n",
       "    </tr>\n",
       "  </thead>\n",
       "  <tbody>\n",
       "    <tr>\n",
       "      <th>35220</th>\n",
       "      <td>100001</td>\n",
       "      <td>58526</td>\n",
       "      <td>149</td>\n",
       "      <td>0</td>\n",
       "      <td>0</td>\n",
       "      <td>NaN</td>\n",
       "    </tr>\n",
       "    <tr>\n",
       "      <th>35221</th>\n",
       "      <td>100003</td>\n",
       "      <td>54610</td>\n",
       "      <td>98</td>\n",
       "      <td>0</td>\n",
       "      <td>0</td>\n",
       "      <td>NaN</td>\n",
       "    </tr>\n",
       "    <tr>\n",
       "      <th>35222</th>\n",
       "      <td>100006</td>\n",
       "      <td>9895</td>\n",
       "      <td>289</td>\n",
       "      <td>0</td>\n",
       "      <td>0</td>\n",
       "      <td>NaN</td>\n",
       "    </tr>\n",
       "    <tr>\n",
       "      <th>35223</th>\n",
       "      <td>100007</td>\n",
       "      <td>23018</td>\n",
       "      <td>175</td>\n",
       "      <td>0</td>\n",
       "      <td>0</td>\n",
       "      <td>NaN</td>\n",
       "    </tr>\n",
       "    <tr>\n",
       "      <th>35224</th>\n",
       "      <td>100009</td>\n",
       "      <td>533</td>\n",
       "      <td>118</td>\n",
       "      <td>0</td>\n",
       "      <td>1</td>\n",
       "      <td>414.8-411.1-414.01-414.2</td>\n",
       "    </tr>\n",
       "  </tbody>\n",
       "</table>\n",
       "</div>"
      ],
      "text/plain": [
       "       RecordID  PatientID  Length_of_stay  Death  Cvd  \\\n",
       "35220    100001      58526             149      0    0   \n",
       "35221    100003      54610              98      0    0   \n",
       "35222    100006       9895             289      0    0   \n",
       "35223    100007      23018             175      0    0   \n",
       "35224    100009        533             118      0    1   \n",
       "\n",
       "                            ICD  \n",
       "35220                       NaN  \n",
       "35221                       NaN  \n",
       "35222                       NaN  \n",
       "35223                       NaN  \n",
       "35224  414.8-411.1-414.01-414.2  "
      ]
     },
     "execution_count": 14,
     "metadata": {},
     "output_type": "execute_result"
    }
   ],
   "source": [
    "df_label.head()"
   ]
  },
  {
   "cell_type": "code",
   "execution_count": 15,
   "metadata": {},
   "outputs": [],
   "source": [
    "df_label['ICD'] = df_label['ICD'].apply(lambda x: \"0\" if pd.isnull(x) else x)"
   ]
  },
  {
   "cell_type": "code",
   "execution_count": 16,
   "metadata": {},
   "outputs": [],
   "source": [
    "# Store outcomes in csv format\n",
    "df_label.to_csv(save_dir + 'df_outcomes.csv', index=None)"
   ]
  },
  {
   "cell_type": "code",
   "execution_count": 17,
   "metadata": {},
   "outputs": [],
   "source": [
    "labels = set()\n",
    "def func(x):\n",
    "    global labels\n",
    "    b = set(x.split('-'))\n",
    "    labels = labels | b\n",
    "    return x"
   ]
  },
  {
   "cell_type": "code",
   "execution_count": 18,
   "metadata": {},
   "outputs": [
    {
     "data": {
      "text/plain": [
       "35220                           0\n",
       "35221                           0\n",
       "35222                           0\n",
       "35223                           0\n",
       "35224    414.8-411.1-414.01-414.2\n",
       "                   ...           \n",
       "35215                      410.31\n",
       "35216                           0\n",
       "35217                           0\n",
       "35218                411.1-414.01\n",
       "35219                      414.01\n",
       "Name: ICD, Length: 51176, dtype: object"
      ]
     },
     "execution_count": 18,
     "metadata": {},
     "output_type": "execute_result"
    }
   ],
   "source": [
    "df_label.ICD.apply(func)"
   ]
  },
  {
   "cell_type": "code",
   "execution_count": 19,
   "metadata": {},
   "outputs": [],
   "source": [
    "df_icd = pd.DataFrame({'code': list(labels)})"
   ]
  },
  {
   "cell_type": "code",
   "execution_count": 20,
   "metadata": {},
   "outputs": [],
   "source": [
    "# 可能存在某些待预测的ICD CODE在数据集中无记录，将其删除\n",
    "df_icd.to_csv(save_dir + 'ICD_code.csv', index=None)"
   ]
  },
  {
   "cell_type": "code",
   "execution_count": 21,
   "metadata": {},
   "outputs": [],
   "source": [
    "# filter text\n",
    "df_text.sort_values('RecordID', inplace=True, ascending=True)\n",
    "df_text.set_index('RecordID', inplace=True)\n",
    "df_text = df_text.loc[inter_set]\n",
    "df_text.reset_index(inplace=True)\n",
    "df_text.sort_values(['RecordID'], ascending=True, inplace=True)"
   ]
  },
  {
   "cell_type": "code",
   "execution_count": 22,
   "metadata": {},
   "outputs": [
    {
     "data": {
      "text/html": [
       "<div>\n",
       "<style scoped>\n",
       "    .dataframe tbody tr th:only-of-type {\n",
       "        vertical-align: middle;\n",
       "    }\n",
       "\n",
       "    .dataframe tbody tr th {\n",
       "        vertical-align: top;\n",
       "    }\n",
       "\n",
       "    .dataframe thead th {\n",
       "        text-align: right;\n",
       "    }\n",
       "</style>\n",
       "<table border=\"1\" class=\"dataframe\">\n",
       "  <thead>\n",
       "    <tr style=\"text-align: right;\">\n",
       "      <th></th>\n",
       "      <th>RecordID</th>\n",
       "      <th>PatientID</th>\n",
       "      <th>Time</th>\n",
       "      <th>Text</th>\n",
       "    </tr>\n",
       "  </thead>\n",
       "  <tbody>\n",
       "    <tr>\n",
       "      <th>35220</th>\n",
       "      <td>100001</td>\n",
       "      <td>58526</td>\n",
       "      <td>4660773120</td>\n",
       "      <td>11:12 AM  CHEST (PA &amp; LAT)                   ...</td>\n",
       "    </tr>\n",
       "    <tr>\n",
       "      <th>35221</th>\n",
       "      <td>100003</td>\n",
       "      <td>54610</td>\n",
       "      <td>5689447200</td>\n",
       "      <td>Sinus rhythm Prolonged QT interval is nonspeci...</td>\n",
       "    </tr>\n",
       "    <tr>\n",
       "      <th>35222</th>\n",
       "      <td>100006</td>\n",
       "      <td>9895</td>\n",
       "      <td>4363120800</td>\n",
       "      <td>Sinus tachycardia Left axis deviation -\\nanter...</td>\n",
       "    </tr>\n",
       "    <tr>\n",
       "      <th>35223</th>\n",
       "      <td>100007</td>\n",
       "      <td>23018</td>\n",
       "      <td>5530212000</td>\n",
       "      <td>Sinus rhythm Atrial premature complex Consider...</td>\n",
       "    </tr>\n",
       "    <tr>\n",
       "      <th>35224</th>\n",
       "      <td>100009</td>\n",
       "      <td>533</td>\n",
       "      <td>6070644000</td>\n",
       "      <td>Sinus bradycardia,  Left atrial abnormality,  ...</td>\n",
       "    </tr>\n",
       "  </tbody>\n",
       "</table>\n",
       "</div>"
      ],
      "text/plain": [
       "       RecordID  PatientID        Time  \\\n",
       "35220    100001      58526  4660773120   \n",
       "35221    100003      54610  5689447200   \n",
       "35222    100006       9895  4363120800   \n",
       "35223    100007      23018  5530212000   \n",
       "35224    100009        533  6070644000   \n",
       "\n",
       "                                                    Text  \n",
       "35220   11:12 AM  CHEST (PA & LAT)                   ...  \n",
       "35221  Sinus rhythm Prolonged QT interval is nonspeci...  \n",
       "35222  Sinus tachycardia Left axis deviation -\\nanter...  \n",
       "35223  Sinus rhythm Atrial premature complex Consider...  \n",
       "35224  Sinus bradycardia,  Left atrial abnormality,  ...  "
      ]
     },
     "execution_count": 22,
     "metadata": {},
     "output_type": "execute_result"
    }
   ],
   "source": [
    "df_text.head()"
   ]
  },
  {
   "cell_type": "code",
   "execution_count": 23,
   "metadata": {},
   "outputs": [],
   "source": [
    "# filter time series sensors\n",
    "length = len(P_list)\n",
    "P_new = []\n",
    "for i in range(length):\n",
    "    if int(P_list[i]['id']) not in inter_set:\n",
    "        continue\n",
    "    else:\n",
    "        P_new.append(P_list[i])\n",
    "P_list = P_new"
   ]
  },
  {
   "cell_type": "code",
   "execution_count": 24,
   "metadata": {},
   "outputs": [],
   "source": [
    "# Based on visulization.ipynb\n",
    "max_tmins = 240*60\n",
    "len_ts = []\n",
    "MAX_LEN = 500"
   ]
  },
  {
   "cell_type": "code",
   "execution_count": 25,
   "metadata": {},
   "outputs": [
    {
     "name": "stderr",
     "output_type": "stream",
     "text": [
      "100%|██████████| 51176/51176 [05:34<00:00, 153.00it/s]\n"
     ]
    }
   ],
   "source": [
    "\"\"\"Group all patient time series into arrays\"\"\"\n",
    "n = len(P_list)\n",
    "F = len(ts_params)\n",
    "PTdict_list = []\n",
    "\n",
    "for ind in tqdm(range(n)):\n",
    "    ID = P_list[ind]['id']\n",
    "    static = P_list[ind]['static']\n",
    "    ts = P_list[ind]['ts']\n",
    "    \n",
    "    # find unique times\n",
    "    unq_tmins = []\n",
    "    i = 0\n",
    "    for sample in ts:\n",
    "        current_tmin = sample[2]\n",
    "        if (current_tmin not in unq_tmins) and (current_tmin < max_tmins) and i < MAX_LEN:\n",
    "            unq_tmins.append(current_tmin)\n",
    "            i += 1\n",
    "    unq_tmins = np.array(unq_tmins)\n",
    "\n",
    "    # one-hot encoding of categorical static variables\n",
    "    extended_static = [static[0], 0,0, 0,0,0, 0,0,0,0]\n",
    "    extended_static[static[1]+1] = 1\n",
    "    extended_static[static[2]+3] = 1\n",
    "    extended_static[static[3]+6] = 1\n",
    "   \n",
    "    # construct array of maximal size\n",
    "    Parr = np.zeros((MAX_LEN,F))\n",
    "    Tarr = np.zeros((MAX_LEN,1))\n",
    "\n",
    "    # for each time measurement find index and store\n",
    "    for sample in ts:\n",
    "        tmins = sample[2]\n",
    "        param = sample[-2]\n",
    "        value = sample[-1]\n",
    "        if tmins < max_tmins:\n",
    "            if len(np.where(tmins==unq_tmins)[0]) == 0:\n",
    "                break\n",
    "            time_id = np.where(tmins==unq_tmins)[0][0]\n",
    "            param_id = np.where(ts_params==param)[0][0]\n",
    "            Parr[time_id, param_id] = value\n",
    "            Tarr[time_id, 0] = unq_tmins[time_id]\n",
    "    \n",
    "    length = len(unq_tmins)\n",
    "    \n",
    "    # construct dictionary\n",
    "    my_dict = {'id':ID, 'static':static, 'extended_static':extended_static, 'arr':Parr, 'time':Tarr, 'length':length}\n",
    "    \n",
    "    # add array into list\n",
    "    PTdict_list.append(my_dict)"
   ]
  },
  {
   "cell_type": "code",
   "execution_count": 26,
   "metadata": {},
   "outputs": [],
   "source": [
    "df_text.to_csv(save_dir + text_data + '.csv', index=None)\n",
    "np.save(save_dir + 'PTdict_list.npy', PTdict_list)"
   ]
  },
  {
   "cell_type": "code",
   "execution_count": 30,
   "metadata": {},
   "outputs": [
    {
     "name": "stderr",
     "output_type": "stream",
     "text": [
      "/home/kelon/anaconda3/envs/CVD/lib/python3.7/site-packages/numpy/core/_asarray.py:136: VisibleDeprecationWarning: Creating an ndarray from ragged nested sequences (which is a list-or-tuple of lists-or-tuples-or ndarrays with different lengths or shapes) is deprecated. If you meant to do this, you must specify 'dtype=object' when creating the ndarray\n",
      "  return array(a, dtype, copy=False, order=order, subok=True)\n"
     ]
    }
   ],
   "source": [
    "# randomSplit(n, save_dir + 'splits/', K_splits = 5, p_train=0.9, p_val=0.05)"
   ]
  },
  {
   "cell_type": "code",
   "execution_count": 27,
   "metadata": {},
   "outputs": [],
   "source": [
    "# 显示划分id\n",
    "df = pd.read_csv(save_dir + text_data + '.csv')\n",
    "for i in range(1, 6):\n",
    "    train, dev, test = np.load(save_dir + 'splits/%d_fold.npy'%(i), allow_pickle=True)\n",
    "    df_train = df.RecordID.iloc[train]\n",
    "    df_dev = df.RecordID.iloc[dev]\n",
    "    df_test = df.RecordID.iloc[test]\n",
    "\n",
    "    df_train.to_csv(save_dir + 'train_ids_fold_%d.csv'%(i), index=None)\n",
    "    df_dev.to_csv(save_dir + 'dev_ids_fold_%d.csv'%(i), index=None)\n",
    "    df_test.to_csv(save_dir + 'test_ids_fold_%d.csv'%(i), index=None)"
   ]
  },
  {
   "cell_type": "code",
   "execution_count": 11,
   "metadata": {},
   "outputs": [],
   "source": [
    "train, dev, test = np.load(save_dir + 'splits/1_fold.npy', allow_pickle=True)"
   ]
  },
  {
   "cell_type": "code",
   "execution_count": 10,
   "metadata": {},
   "outputs": [
    {
     "data": {
      "text/plain": [
       "'P18_Discharge_summary/'"
      ]
     },
     "execution_count": 10,
     "metadata": {},
     "output_type": "execute_result"
    }
   ],
   "source": [
    "save_dir"
   ]
  },
  {
   "cell_type": "code",
   "execution_count": 13,
   "metadata": {},
   "outputs": [
    {
     "data": {
      "text/plain": [
       "46036"
      ]
     },
     "execution_count": 13,
     "metadata": {},
     "output_type": "execute_result"
    }
   ],
   "source": [
    "len(train)"
   ]
  },
  {
   "cell_type": "code",
   "execution_count": 12,
   "metadata": {},
   "outputs": [
    {
     "data": {
      "text/plain": [
       "2558"
      ]
     },
     "execution_count": 12,
     "metadata": {},
     "output_type": "execute_result"
    }
   ],
   "source": [
    "len(dev)"
   ]
  },
  {
   "cell_type": "code",
   "execution_count": 14,
   "metadata": {},
   "outputs": [
    {
     "data": {
      "text/plain": [
       "46044"
      ]
     },
     "execution_count": 14,
     "metadata": {},
     "output_type": "execute_result"
    }
   ],
   "source": [
    "2558*18"
   ]
  }
 ],
 "metadata": {
  "kernelspec": {
   "display_name": "CVD",
   "language": "python",
   "name": "python3"
  },
  "language_info": {
   "codemirror_mode": {
    "name": "ipython",
    "version": 3
   },
   "file_extension": ".py",
   "mimetype": "text/x-python",
   "name": "python",
   "nbconvert_exporter": "python",
   "pygments_lexer": "ipython3",
   "version": "3.7.13"
  },
  "orig_nbformat": 4
 },
 "nbformat": 4,
 "nbformat_minor": 2
}
